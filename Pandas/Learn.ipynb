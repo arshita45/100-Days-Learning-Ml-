{
 "cells": [
  {
   "cell_type": "code",
   "execution_count": 1,
   "id": "a052cd58-eda7-4e97-a5f7-a24d3c248dc9",
   "metadata": {},
   "outputs": [],
   "source": [
    "import pandas as pd\n",
    "import numpy as np"
   ]
  },
  {
   "cell_type": "code",
   "execution_count": 7,
   "id": "bbe391fb-0e27-47b6-855d-bbe8d3d65799",
   "metadata": {},
   "outputs": [],
   "source": [
    "dict = { \n",
    "        \"name\" : [\"arshita\", \"aryan\", \"ishika\" , \"sarthak\"],\n",
    "        \"roll no\" : [17 , 18 , 19 , 20]\n",
    "}"
   ]
  },
  {
   "cell_type": "code",
   "execution_count": 9,
   "id": "058aef04-114e-47fd-9ca1-a8e7da4f1f18",
   "metadata": {},
   "outputs": [],
   "source": [
    "df = pd.DataFrame(dict)"
   ]
  },
  {
   "cell_type": "code",
   "execution_count": 11,
   "id": "258e43d7-a83d-4df7-9de0-b9d0c6037b23",
   "metadata": {},
   "outputs": [
    {
     "data": {
      "text/html": [
       "<div>\n",
       "<style scoped>\n",
       "    .dataframe tbody tr th:only-of-type {\n",
       "        vertical-align: middle;\n",
       "    }\n",
       "\n",
       "    .dataframe tbody tr th {\n",
       "        vertical-align: top;\n",
       "    }\n",
       "\n",
       "    .dataframe thead th {\n",
       "        text-align: right;\n",
       "    }\n",
       "</style>\n",
       "<table border=\"1\" class=\"dataframe\">\n",
       "  <thead>\n",
       "    <tr style=\"text-align: right;\">\n",
       "      <th></th>\n",
       "      <th>name</th>\n",
       "      <th>roll no</th>\n",
       "    </tr>\n",
       "  </thead>\n",
       "  <tbody>\n",
       "    <tr>\n",
       "      <th>0</th>\n",
       "      <td>arshita</td>\n",
       "      <td>17</td>\n",
       "    </tr>\n",
       "    <tr>\n",
       "      <th>1</th>\n",
       "      <td>aryan</td>\n",
       "      <td>18</td>\n",
       "    </tr>\n",
       "    <tr>\n",
       "      <th>2</th>\n",
       "      <td>ishika</td>\n",
       "      <td>19</td>\n",
       "    </tr>\n",
       "    <tr>\n",
       "      <th>3</th>\n",
       "      <td>sarthak</td>\n",
       "      <td>20</td>\n",
       "    </tr>\n",
       "  </tbody>\n",
       "</table>\n",
       "</div>"
      ],
      "text/plain": [
       "      name  roll no\n",
       "0  arshita       17\n",
       "1    aryan       18\n",
       "2   ishika       19\n",
       "3  sarthak       20"
      ]
     },
     "execution_count": 11,
     "metadata": {},
     "output_type": "execute_result"
    }
   ],
   "source": [
    "df"
   ]
  },
  {
   "cell_type": "markdown",
   "id": "944d794f-d28e-4691-9962-9d3c30acafa0",
   "metadata": {},
   "source": [
    "DataFrame helps to covert our dictionary into a excel type sheet and we can convert this into csv , json any format like we want "
   ]
  },
  {
   "cell_type": "code",
   "execution_count": 15,
   "id": "b141f716-ecdb-4f5a-933c-c57d594aaa21",
   "metadata": {},
   "outputs": [],
   "source": [
    "df.to_csv('friends.csv')"
   ]
  },
  {
   "cell_type": "code",
   "execution_count": 17,
   "id": "6bbe7b5e-2683-4305-b660-d4fa01979c38",
   "metadata": {},
   "outputs": [
    {
     "data": {
      "text/html": [
       "<div>\n",
       "<style scoped>\n",
       "    .dataframe tbody tr th:only-of-type {\n",
       "        vertical-align: middle;\n",
       "    }\n",
       "\n",
       "    .dataframe tbody tr th {\n",
       "        vertical-align: top;\n",
       "    }\n",
       "\n",
       "    .dataframe thead th {\n",
       "        text-align: right;\n",
       "    }\n",
       "</style>\n",
       "<table border=\"1\" class=\"dataframe\">\n",
       "  <thead>\n",
       "    <tr style=\"text-align: right;\">\n",
       "      <th></th>\n",
       "      <th>name</th>\n",
       "      <th>roll no</th>\n",
       "    </tr>\n",
       "  </thead>\n",
       "  <tbody>\n",
       "    <tr>\n",
       "      <th>0</th>\n",
       "      <td>arshita</td>\n",
       "      <td>17</td>\n",
       "    </tr>\n",
       "    <tr>\n",
       "      <th>1</th>\n",
       "      <td>aryan</td>\n",
       "      <td>18</td>\n",
       "    </tr>\n",
       "    <tr>\n",
       "      <th>2</th>\n",
       "      <td>ishika</td>\n",
       "      <td>19</td>\n",
       "    </tr>\n",
       "    <tr>\n",
       "      <th>3</th>\n",
       "      <td>sarthak</td>\n",
       "      <td>20</td>\n",
       "    </tr>\n",
       "  </tbody>\n",
       "</table>\n",
       "</div>"
      ],
      "text/plain": [
       "      name  roll no\n",
       "0  arshita       17\n",
       "1    aryan       18\n",
       "2   ishika       19\n",
       "3  sarthak       20"
      ]
     },
     "execution_count": 17,
     "metadata": {},
     "output_type": "execute_result"
    }
   ],
   "source": [
    "df.head()"
   ]
  },
  {
   "cell_type": "code",
   "execution_count": 19,
   "id": "c78e5b90-6949-4481-90c1-20ffd6d98103",
   "metadata": {},
   "outputs": [
    {
     "data": {
      "text/html": [
       "<div>\n",
       "<style scoped>\n",
       "    .dataframe tbody tr th:only-of-type {\n",
       "        vertical-align: middle;\n",
       "    }\n",
       "\n",
       "    .dataframe tbody tr th {\n",
       "        vertical-align: top;\n",
       "    }\n",
       "\n",
       "    .dataframe thead th {\n",
       "        text-align: right;\n",
       "    }\n",
       "</style>\n",
       "<table border=\"1\" class=\"dataframe\">\n",
       "  <thead>\n",
       "    <tr style=\"text-align: right;\">\n",
       "      <th></th>\n",
       "      <th>name</th>\n",
       "      <th>roll no</th>\n",
       "    </tr>\n",
       "  </thead>\n",
       "  <tbody>\n",
       "    <tr>\n",
       "      <th>0</th>\n",
       "      <td>arshita</td>\n",
       "      <td>17</td>\n",
       "    </tr>\n",
       "    <tr>\n",
       "      <th>1</th>\n",
       "      <td>aryan</td>\n",
       "      <td>18</td>\n",
       "    </tr>\n",
       "    <tr>\n",
       "      <th>2</th>\n",
       "      <td>ishika</td>\n",
       "      <td>19</td>\n",
       "    </tr>\n",
       "    <tr>\n",
       "      <th>3</th>\n",
       "      <td>sarthak</td>\n",
       "      <td>20</td>\n",
       "    </tr>\n",
       "  </tbody>\n",
       "</table>\n",
       "</div>"
      ],
      "text/plain": [
       "      name  roll no\n",
       "0  arshita       17\n",
       "1    aryan       18\n",
       "2   ishika       19\n",
       "3  sarthak       20"
      ]
     },
     "execution_count": 19,
     "metadata": {},
     "output_type": "execute_result"
    }
   ],
   "source": [
    "df.tail()"
   ]
  },
  {
   "cell_type": "code",
   "execution_count": 21,
   "id": "71ef8aa2-75ee-44c1-8158-1bc261525359",
   "metadata": {},
   "outputs": [
    {
     "data": {
      "text/html": [
       "<div>\n",
       "<style scoped>\n",
       "    .dataframe tbody tr th:only-of-type {\n",
       "        vertical-align: middle;\n",
       "    }\n",
       "\n",
       "    .dataframe tbody tr th {\n",
       "        vertical-align: top;\n",
       "    }\n",
       "\n",
       "    .dataframe thead th {\n",
       "        text-align: right;\n",
       "    }\n",
       "</style>\n",
       "<table border=\"1\" class=\"dataframe\">\n",
       "  <thead>\n",
       "    <tr style=\"text-align: right;\">\n",
       "      <th></th>\n",
       "      <th>roll no</th>\n",
       "    </tr>\n",
       "  </thead>\n",
       "  <tbody>\n",
       "    <tr>\n",
       "      <th>count</th>\n",
       "      <td>4.000000</td>\n",
       "    </tr>\n",
       "    <tr>\n",
       "      <th>mean</th>\n",
       "      <td>18.500000</td>\n",
       "    </tr>\n",
       "    <tr>\n",
       "      <th>std</th>\n",
       "      <td>1.290994</td>\n",
       "    </tr>\n",
       "    <tr>\n",
       "      <th>min</th>\n",
       "      <td>17.000000</td>\n",
       "    </tr>\n",
       "    <tr>\n",
       "      <th>25%</th>\n",
       "      <td>17.750000</td>\n",
       "    </tr>\n",
       "    <tr>\n",
       "      <th>50%</th>\n",
       "      <td>18.500000</td>\n",
       "    </tr>\n",
       "    <tr>\n",
       "      <th>75%</th>\n",
       "      <td>19.250000</td>\n",
       "    </tr>\n",
       "    <tr>\n",
       "      <th>max</th>\n",
       "      <td>20.000000</td>\n",
       "    </tr>\n",
       "  </tbody>\n",
       "</table>\n",
       "</div>"
      ],
      "text/plain": [
       "         roll no\n",
       "count   4.000000\n",
       "mean   18.500000\n",
       "std     1.290994\n",
       "min    17.000000\n",
       "25%    17.750000\n",
       "50%    18.500000\n",
       "75%    19.250000\n",
       "max    20.000000"
      ]
     },
     "execution_count": 21,
     "metadata": {},
     "output_type": "execute_result"
    }
   ],
   "source": [
    "df.describe()"
   ]
  },
  {
   "cell_type": "markdown",
   "id": "e1a53f4e-e83f-4655-944e-cdb32e10f6e9",
   "metadata": {},
   "source": [
    "Describe column calculates everything for all numerical columns in our dataset "
   ]
  },
  {
   "cell_type": "code",
   "execution_count": 45,
   "id": "321d223e-3a69-43fb-94c5-8bf02ea1042e",
   "metadata": {},
   "outputs": [],
   "source": [
    "friends = pd.read_csv('friends.csv' , index_col=0)"
   ]
  },
  {
   "cell_type": "code",
   "execution_count": 47,
   "id": "d1818953-1b48-4bff-91d0-68b76f5b8df0",
   "metadata": {},
   "outputs": [
    {
     "data": {
      "text/plain": [
       "0    17\n",
       "1    18\n",
       "2    19\n",
       "3    20\n",
       "Name: roll no, dtype: int64"
      ]
     },
     "execution_count": 47,
     "metadata": {},
     "output_type": "execute_result"
    }
   ],
   "source": [
    "friends['roll no']"
   ]
  },
  {
   "cell_type": "code",
   "execution_count": 49,
   "id": "862523ba-0c83-4932-8bbe-3f5e329da991",
   "metadata": {},
   "outputs": [
    {
     "data": {
      "text/plain": [
       "17"
      ]
     },
     "execution_count": 49,
     "metadata": {},
     "output_type": "execute_result"
    }
   ],
   "source": [
    "friends['roll no'][0]"
   ]
  },
  {
   "cell_type": "code",
   "execution_count": 51,
   "id": "149563e7-92d4-47e5-83ab-dc217f17e181",
   "metadata": {},
   "outputs": [
    {
     "name": "stderr",
     "output_type": "stream",
     "text": [
      "/var/folders/wt/kc0ps13179n9jdr9lwb24vq00000gn/T/ipykernel_9074/2045514776.py:1: SettingWithCopyWarning: \n",
      "A value is trying to be set on a copy of a slice from a DataFrame\n",
      "\n",
      "See the caveats in the documentation: https://pandas.pydata.org/pandas-docs/stable/user_guide/indexing.html#returning-a-view-versus-a-copy\n",
      "  friends['roll no'][0] = 50\n"
     ]
    }
   ],
   "source": [
    "friends['roll no'][0] = 50"
   ]
  },
  {
   "cell_type": "code",
   "execution_count": 53,
   "id": "f64232e9-114d-4699-9c03-5eb1174a3253",
   "metadata": {},
   "outputs": [
    {
     "data": {
      "text/html": [
       "<div>\n",
       "<style scoped>\n",
       "    .dataframe tbody tr th:only-of-type {\n",
       "        vertical-align: middle;\n",
       "    }\n",
       "\n",
       "    .dataframe tbody tr th {\n",
       "        vertical-align: top;\n",
       "    }\n",
       "\n",
       "    .dataframe thead th {\n",
       "        text-align: right;\n",
       "    }\n",
       "</style>\n",
       "<table border=\"1\" class=\"dataframe\">\n",
       "  <thead>\n",
       "    <tr style=\"text-align: right;\">\n",
       "      <th></th>\n",
       "      <th>name</th>\n",
       "      <th>roll no</th>\n",
       "    </tr>\n",
       "  </thead>\n",
       "  <tbody>\n",
       "    <tr>\n",
       "      <th>0</th>\n",
       "      <td>arshita</td>\n",
       "      <td>50</td>\n",
       "    </tr>\n",
       "    <tr>\n",
       "      <th>1</th>\n",
       "      <td>aryan</td>\n",
       "      <td>18</td>\n",
       "    </tr>\n",
       "    <tr>\n",
       "      <th>2</th>\n",
       "      <td>ishika</td>\n",
       "      <td>19</td>\n",
       "    </tr>\n",
       "    <tr>\n",
       "      <th>3</th>\n",
       "      <td>sarthak</td>\n",
       "      <td>20</td>\n",
       "    </tr>\n",
       "  </tbody>\n",
       "</table>\n",
       "</div>"
      ],
      "text/plain": [
       "      name  roll no\n",
       "0  arshita       50\n",
       "1    aryan       18\n",
       "2   ishika       19\n",
       "3  sarthak       20"
      ]
     },
     "execution_count": 53,
     "metadata": {},
     "output_type": "execute_result"
    }
   ],
   "source": [
    "friends.head()"
   ]
  },
  {
   "cell_type": "markdown",
   "id": "d64f768f-54eb-4859-b8dc-bff54fd22fea",
   "metadata": {},
   "source": [
    "Pandas is mainly like a excel sheet but it is written in python and you can use python libraries in it \n",
    "Pandas use numpy for power and speed\n",
    "random.rand is the function in numpy to generate 2-d array within range of 0-1 "
   ]
  },
  {
   "cell_type": "code",
   "execution_count": 55,
   "id": "63b1ade4-6e93-4c2e-af88-8fa90a1a6172",
   "metadata": {},
   "outputs": [],
   "source": [
    "newdf= pd.DataFrame(np.random.rand(334,5) , index=np.arange(334))"
   ]
  },
  {
   "cell_type": "code",
   "execution_count": 57,
   "id": "48f92a78-60f2-4264-a4b4-240fc2767486",
   "metadata": {},
   "outputs": [
    {
     "data": {
      "text/html": [
       "<div>\n",
       "<style scoped>\n",
       "    .dataframe tbody tr th:only-of-type {\n",
       "        vertical-align: middle;\n",
       "    }\n",
       "\n",
       "    .dataframe tbody tr th {\n",
       "        vertical-align: top;\n",
       "    }\n",
       "\n",
       "    .dataframe thead th {\n",
       "        text-align: right;\n",
       "    }\n",
       "</style>\n",
       "<table border=\"1\" class=\"dataframe\">\n",
       "  <thead>\n",
       "    <tr style=\"text-align: right;\">\n",
       "      <th></th>\n",
       "      <th>0</th>\n",
       "      <th>1</th>\n",
       "      <th>2</th>\n",
       "      <th>3</th>\n",
       "      <th>4</th>\n",
       "    </tr>\n",
       "  </thead>\n",
       "  <tbody>\n",
       "    <tr>\n",
       "      <th>0</th>\n",
       "      <td>0.586290</td>\n",
       "      <td>0.214733</td>\n",
       "      <td>0.892123</td>\n",
       "      <td>0.764117</td>\n",
       "      <td>0.067529</td>\n",
       "    </tr>\n",
       "    <tr>\n",
       "      <th>1</th>\n",
       "      <td>0.222782</td>\n",
       "      <td>0.119633</td>\n",
       "      <td>0.103637</td>\n",
       "      <td>0.259773</td>\n",
       "      <td>0.010141</td>\n",
       "    </tr>\n",
       "    <tr>\n",
       "      <th>2</th>\n",
       "      <td>0.250837</td>\n",
       "      <td>0.804726</td>\n",
       "      <td>0.294311</td>\n",
       "      <td>0.449729</td>\n",
       "      <td>0.434748</td>\n",
       "    </tr>\n",
       "    <tr>\n",
       "      <th>3</th>\n",
       "      <td>0.767132</td>\n",
       "      <td>0.991832</td>\n",
       "      <td>0.007424</td>\n",
       "      <td>0.618058</td>\n",
       "      <td>0.896714</td>\n",
       "    </tr>\n",
       "    <tr>\n",
       "      <th>4</th>\n",
       "      <td>0.363599</td>\n",
       "      <td>0.271196</td>\n",
       "      <td>0.428266</td>\n",
       "      <td>0.271703</td>\n",
       "      <td>0.467525</td>\n",
       "    </tr>\n",
       "  </tbody>\n",
       "</table>\n",
       "</div>"
      ],
      "text/plain": [
       "          0         1         2         3         4\n",
       "0  0.586290  0.214733  0.892123  0.764117  0.067529\n",
       "1  0.222782  0.119633  0.103637  0.259773  0.010141\n",
       "2  0.250837  0.804726  0.294311  0.449729  0.434748\n",
       "3  0.767132  0.991832  0.007424  0.618058  0.896714\n",
       "4  0.363599  0.271196  0.428266  0.271703  0.467525"
      ]
     },
     "execution_count": 57,
     "metadata": {},
     "output_type": "execute_result"
    }
   ],
   "source": [
    "newdf.head()"
   ]
  },
  {
   "cell_type": "code",
   "execution_count": 59,
   "id": "1f51524e-16e8-4cec-9ea4-e0a4dbad92de",
   "metadata": {},
   "outputs": [
    {
     "data": {
      "text/html": [
       "<div>\n",
       "<style scoped>\n",
       "    .dataframe tbody tr th:only-of-type {\n",
       "        vertical-align: middle;\n",
       "    }\n",
       "\n",
       "    .dataframe tbody tr th {\n",
       "        vertical-align: top;\n",
       "    }\n",
       "\n",
       "    .dataframe thead th {\n",
       "        text-align: right;\n",
       "    }\n",
       "</style>\n",
       "<table border=\"1\" class=\"dataframe\">\n",
       "  <thead>\n",
       "    <tr style=\"text-align: right;\">\n",
       "      <th></th>\n",
       "      <th>0</th>\n",
       "      <th>1</th>\n",
       "      <th>2</th>\n",
       "      <th>3</th>\n",
       "      <th>4</th>\n",
       "    </tr>\n",
       "  </thead>\n",
       "  <tbody>\n",
       "    <tr>\n",
       "      <th>count</th>\n",
       "      <td>334.000000</td>\n",
       "      <td>334.000000</td>\n",
       "      <td>334.000000</td>\n",
       "      <td>334.000000</td>\n",
       "      <td>334.000000</td>\n",
       "    </tr>\n",
       "    <tr>\n",
       "      <th>mean</th>\n",
       "      <td>0.480641</td>\n",
       "      <td>0.470964</td>\n",
       "      <td>0.498104</td>\n",
       "      <td>0.498017</td>\n",
       "      <td>0.521238</td>\n",
       "    </tr>\n",
       "    <tr>\n",
       "      <th>std</th>\n",
       "      <td>0.281973</td>\n",
       "      <td>0.287426</td>\n",
       "      <td>0.279843</td>\n",
       "      <td>0.288797</td>\n",
       "      <td>0.289983</td>\n",
       "    </tr>\n",
       "    <tr>\n",
       "      <th>min</th>\n",
       "      <td>0.015445</td>\n",
       "      <td>0.000051</td>\n",
       "      <td>0.005039</td>\n",
       "      <td>0.009093</td>\n",
       "      <td>0.006624</td>\n",
       "    </tr>\n",
       "    <tr>\n",
       "      <th>25%</th>\n",
       "      <td>0.230867</td>\n",
       "      <td>0.231081</td>\n",
       "      <td>0.259782</td>\n",
       "      <td>0.247100</td>\n",
       "      <td>0.285161</td>\n",
       "    </tr>\n",
       "    <tr>\n",
       "      <th>50%</th>\n",
       "      <td>0.486059</td>\n",
       "      <td>0.447868</td>\n",
       "      <td>0.503586</td>\n",
       "      <td>0.491484</td>\n",
       "      <td>0.527990</td>\n",
       "    </tr>\n",
       "    <tr>\n",
       "      <th>75%</th>\n",
       "      <td>0.726023</td>\n",
       "      <td>0.725100</td>\n",
       "      <td>0.744693</td>\n",
       "      <td>0.764580</td>\n",
       "      <td>0.771041</td>\n",
       "    </tr>\n",
       "    <tr>\n",
       "      <th>max</th>\n",
       "      <td>0.999579</td>\n",
       "      <td>0.991832</td>\n",
       "      <td>0.999890</td>\n",
       "      <td>0.994779</td>\n",
       "      <td>0.997574</td>\n",
       "    </tr>\n",
       "  </tbody>\n",
       "</table>\n",
       "</div>"
      ],
      "text/plain": [
       "                0           1           2           3           4\n",
       "count  334.000000  334.000000  334.000000  334.000000  334.000000\n",
       "mean     0.480641    0.470964    0.498104    0.498017    0.521238\n",
       "std      0.281973    0.287426    0.279843    0.288797    0.289983\n",
       "min      0.015445    0.000051    0.005039    0.009093    0.006624\n",
       "25%      0.230867    0.231081    0.259782    0.247100    0.285161\n",
       "50%      0.486059    0.447868    0.503586    0.491484    0.527990\n",
       "75%      0.726023    0.725100    0.744693    0.764580    0.771041\n",
       "max      0.999579    0.991832    0.999890    0.994779    0.997574"
      ]
     },
     "execution_count": 59,
     "metadata": {},
     "output_type": "execute_result"
    }
   ],
   "source": [
    "newdf.describe()"
   ]
  },
  {
   "cell_type": "code",
   "execution_count": 61,
   "id": "e528723c-b238-4acf-aa46-e57f9022b66c",
   "metadata": {},
   "outputs": [
    {
     "data": {
      "text/plain": [
       "0    float64\n",
       "1    float64\n",
       "2    float64\n",
       "3    float64\n",
       "4    float64\n",
       "dtype: object"
      ]
     },
     "execution_count": 61,
     "metadata": {},
     "output_type": "execute_result"
    }
   ],
   "source": [
    "newdf.dtypes"
   ]
  },
  {
   "cell_type": "code",
   "execution_count": 63,
   "id": "b2065daa-98ae-4cd6-929e-d56b26b5a730",
   "metadata": {},
   "outputs": [
    {
     "data": {
      "text/plain": [
       "array([[0.58628975, 0.21473298, 0.89212321, 0.76411653, 0.0675291 ],\n",
       "       [0.22278237, 0.11963343, 0.10363709, 0.25977315, 0.01014117],\n",
       "       [0.25083721, 0.80472552, 0.29431086, 0.44972921, 0.43474818],\n",
       "       ...,\n",
       "       [0.19818347, 0.74368198, 0.87950347, 0.25198054, 0.81205012],\n",
       "       [0.04418108, 0.53931121, 0.64963913, 0.70017639, 0.30073667],\n",
       "       [0.09597879, 0.21837878, 0.72841965, 0.73199076, 0.65141104]])"
      ]
     },
     "execution_count": 63,
     "metadata": {},
     "output_type": "execute_result"
    }
   ],
   "source": [
    "newdf.to_numpy()"
   ]
  },
  {
   "cell_type": "code",
   "execution_count": 65,
   "id": "b5e2c746-402a-413b-84b5-ec1f153047b2",
   "metadata": {},
   "outputs": [
    {
     "data": {
      "text/html": [
       "<div>\n",
       "<style scoped>\n",
       "    .dataframe tbody tr th:only-of-type {\n",
       "        vertical-align: middle;\n",
       "    }\n",
       "\n",
       "    .dataframe tbody tr th {\n",
       "        vertical-align: top;\n",
       "    }\n",
       "\n",
       "    .dataframe thead th {\n",
       "        text-align: right;\n",
       "    }\n",
       "</style>\n",
       "<table border=\"1\" class=\"dataframe\">\n",
       "  <thead>\n",
       "    <tr style=\"text-align: right;\">\n",
       "      <th></th>\n",
       "      <th>0</th>\n",
       "      <th>1</th>\n",
       "      <th>2</th>\n",
       "      <th>3</th>\n",
       "      <th>4</th>\n",
       "      <th>5</th>\n",
       "      <th>6</th>\n",
       "      <th>7</th>\n",
       "      <th>8</th>\n",
       "      <th>9</th>\n",
       "      <th>...</th>\n",
       "      <th>324</th>\n",
       "      <th>325</th>\n",
       "      <th>326</th>\n",
       "      <th>327</th>\n",
       "      <th>328</th>\n",
       "      <th>329</th>\n",
       "      <th>330</th>\n",
       "      <th>331</th>\n",
       "      <th>332</th>\n",
       "      <th>333</th>\n",
       "    </tr>\n",
       "  </thead>\n",
       "  <tbody>\n",
       "    <tr>\n",
       "      <th>0</th>\n",
       "      <td>0.586290</td>\n",
       "      <td>0.222782</td>\n",
       "      <td>0.250837</td>\n",
       "      <td>0.767132</td>\n",
       "      <td>0.363599</td>\n",
       "      <td>0.971518</td>\n",
       "      <td>0.179713</td>\n",
       "      <td>0.270271</td>\n",
       "      <td>0.483945</td>\n",
       "      <td>0.325266</td>\n",
       "      <td>...</td>\n",
       "      <td>0.572784</td>\n",
       "      <td>0.529409</td>\n",
       "      <td>0.327675</td>\n",
       "      <td>0.305302</td>\n",
       "      <td>0.571633</td>\n",
       "      <td>0.793738</td>\n",
       "      <td>0.634083</td>\n",
       "      <td>0.198183</td>\n",
       "      <td>0.044181</td>\n",
       "      <td>0.095979</td>\n",
       "    </tr>\n",
       "    <tr>\n",
       "      <th>1</th>\n",
       "      <td>0.214733</td>\n",
       "      <td>0.119633</td>\n",
       "      <td>0.804726</td>\n",
       "      <td>0.991832</td>\n",
       "      <td>0.271196</td>\n",
       "      <td>0.074386</td>\n",
       "      <td>0.125858</td>\n",
       "      <td>0.015755</td>\n",
       "      <td>0.278848</td>\n",
       "      <td>0.890556</td>\n",
       "      <td>...</td>\n",
       "      <td>0.075912</td>\n",
       "      <td>0.518097</td>\n",
       "      <td>0.505163</td>\n",
       "      <td>0.143558</td>\n",
       "      <td>0.152127</td>\n",
       "      <td>0.031271</td>\n",
       "      <td>0.808326</td>\n",
       "      <td>0.743682</td>\n",
       "      <td>0.539311</td>\n",
       "      <td>0.218379</td>\n",
       "    </tr>\n",
       "    <tr>\n",
       "      <th>2</th>\n",
       "      <td>0.892123</td>\n",
       "      <td>0.103637</td>\n",
       "      <td>0.294311</td>\n",
       "      <td>0.007424</td>\n",
       "      <td>0.428266</td>\n",
       "      <td>0.337909</td>\n",
       "      <td>0.478955</td>\n",
       "      <td>0.699104</td>\n",
       "      <td>0.999890</td>\n",
       "      <td>0.050423</td>\n",
       "      <td>...</td>\n",
       "      <td>0.592095</td>\n",
       "      <td>0.071542</td>\n",
       "      <td>0.749287</td>\n",
       "      <td>0.158538</td>\n",
       "      <td>0.444647</td>\n",
       "      <td>0.718677</td>\n",
       "      <td>0.498615</td>\n",
       "      <td>0.879503</td>\n",
       "      <td>0.649639</td>\n",
       "      <td>0.728420</td>\n",
       "    </tr>\n",
       "    <tr>\n",
       "      <th>3</th>\n",
       "      <td>0.764117</td>\n",
       "      <td>0.259773</td>\n",
       "      <td>0.449729</td>\n",
       "      <td>0.618058</td>\n",
       "      <td>0.271703</td>\n",
       "      <td>0.825787</td>\n",
       "      <td>0.489637</td>\n",
       "      <td>0.204112</td>\n",
       "      <td>0.740117</td>\n",
       "      <td>0.292210</td>\n",
       "      <td>...</td>\n",
       "      <td>0.055769</td>\n",
       "      <td>0.229853</td>\n",
       "      <td>0.819501</td>\n",
       "      <td>0.724899</td>\n",
       "      <td>0.931525</td>\n",
       "      <td>0.129030</td>\n",
       "      <td>0.246934</td>\n",
       "      <td>0.251981</td>\n",
       "      <td>0.700176</td>\n",
       "      <td>0.731991</td>\n",
       "    </tr>\n",
       "    <tr>\n",
       "      <th>4</th>\n",
       "      <td>0.067529</td>\n",
       "      <td>0.010141</td>\n",
       "      <td>0.434748</td>\n",
       "      <td>0.896714</td>\n",
       "      <td>0.467525</td>\n",
       "      <td>0.827994</td>\n",
       "      <td>0.405004</td>\n",
       "      <td>0.018677</td>\n",
       "      <td>0.418710</td>\n",
       "      <td>0.517568</td>\n",
       "      <td>...</td>\n",
       "      <td>0.039027</td>\n",
       "      <td>0.771563</td>\n",
       "      <td>0.030859</td>\n",
       "      <td>0.733665</td>\n",
       "      <td>0.374379</td>\n",
       "      <td>0.899738</td>\n",
       "      <td>0.866887</td>\n",
       "      <td>0.812050</td>\n",
       "      <td>0.300737</td>\n",
       "      <td>0.651411</td>\n",
       "    </tr>\n",
       "  </tbody>\n",
       "</table>\n",
       "<p>5 rows × 334 columns</p>\n",
       "</div>"
      ],
      "text/plain": [
       "        0         1         2         3         4         5         6    \\\n",
       "0  0.586290  0.222782  0.250837  0.767132  0.363599  0.971518  0.179713   \n",
       "1  0.214733  0.119633  0.804726  0.991832  0.271196  0.074386  0.125858   \n",
       "2  0.892123  0.103637  0.294311  0.007424  0.428266  0.337909  0.478955   \n",
       "3  0.764117  0.259773  0.449729  0.618058  0.271703  0.825787  0.489637   \n",
       "4  0.067529  0.010141  0.434748  0.896714  0.467525  0.827994  0.405004   \n",
       "\n",
       "        7         8         9    ...       324       325       326       327  \\\n",
       "0  0.270271  0.483945  0.325266  ...  0.572784  0.529409  0.327675  0.305302   \n",
       "1  0.015755  0.278848  0.890556  ...  0.075912  0.518097  0.505163  0.143558   \n",
       "2  0.699104  0.999890  0.050423  ...  0.592095  0.071542  0.749287  0.158538   \n",
       "3  0.204112  0.740117  0.292210  ...  0.055769  0.229853  0.819501  0.724899   \n",
       "4  0.018677  0.418710  0.517568  ...  0.039027  0.771563  0.030859  0.733665   \n",
       "\n",
       "        328       329       330       331       332       333  \n",
       "0  0.571633  0.793738  0.634083  0.198183  0.044181  0.095979  \n",
       "1  0.152127  0.031271  0.808326  0.743682  0.539311  0.218379  \n",
       "2  0.444647  0.718677  0.498615  0.879503  0.649639  0.728420  \n",
       "3  0.931525  0.129030  0.246934  0.251981  0.700176  0.731991  \n",
       "4  0.374379  0.899738  0.866887  0.812050  0.300737  0.651411  \n",
       "\n",
       "[5 rows x 334 columns]"
      ]
     },
     "execution_count": 65,
     "metadata": {},
     "output_type": "execute_result"
    }
   ],
   "source": [
    "newdf.T"
   ]
  },
  {
   "cell_type": "markdown",
   "id": "cc800d3a-b5b9-43a1-8109-92a142d7dd09",
   "metadata": {},
   "source": [
    "newdf2 act as pointer to newdf if u change newdf2 it will affect newdf "
   ]
  },
  {
   "cell_type": "code",
   "execution_count": 67,
   "id": "1d703a99-771d-41ea-be46-46bcb40e9890",
   "metadata": {},
   "outputs": [],
   "source": [
    "newdf2 = newdf"
   ]
  },
  {
   "cell_type": "markdown",
   "id": "87cef19e-2b2b-42b3-a4f1-58d691b7bc05",
   "metadata": {},
   "source": [
    "copy() is just a function if we change newdf3 it will not affect newdf"
   ]
  },
  {
   "cell_type": "code",
   "execution_count": 69,
   "id": "678be8ce-82fc-4d79-8955-8ff367c6969d",
   "metadata": {},
   "outputs": [],
   "source": [
    "newdf3 = newdf.copy()"
   ]
  },
  {
   "cell_type": "code",
   "execution_count": 79,
   "id": "69c773fa-5dc6-4093-a220-9a1072366bb5",
   "metadata": {},
   "outputs": [],
   "source": [
    "newdf= newdf.drop(0,axis=0)"
   ]
  },
  {
   "cell_type": "code",
   "execution_count": 83,
   "id": "82323d0d-e921-422a-ad33-be8e227e4be0",
   "metadata": {},
   "outputs": [
    {
     "data": {
      "text/plain": [
       "0.1196334251724891"
      ]
     },
     "execution_count": 83,
     "metadata": {},
     "output_type": "execute_result"
    }
   ],
   "source": [
    "newdf.loc[1,1]"
   ]
  },
  {
   "cell_type": "code",
   "execution_count": 85,
   "id": "a96c610e-e1d1-41db-a393-cacc4c2db0e4",
   "metadata": {},
   "outputs": [
    {
     "data": {
      "text/html": [
       "<div>\n",
       "<style scoped>\n",
       "    .dataframe tbody tr th:only-of-type {\n",
       "        vertical-align: middle;\n",
       "    }\n",
       "\n",
       "    .dataframe tbody tr th {\n",
       "        vertical-align: top;\n",
       "    }\n",
       "\n",
       "    .dataframe thead th {\n",
       "        text-align: right;\n",
       "    }\n",
       "</style>\n",
       "<table border=\"1\" class=\"dataframe\">\n",
       "  <thead>\n",
       "    <tr style=\"text-align: right;\">\n",
       "      <th></th>\n",
       "      <th>3</th>\n",
       "      <th>4</th>\n",
       "    </tr>\n",
       "  </thead>\n",
       "  <tbody>\n",
       "    <tr>\n",
       "      <th>1</th>\n",
       "      <td>0.259773</td>\n",
       "      <td>0.010141</td>\n",
       "    </tr>\n",
       "    <tr>\n",
       "      <th>2</th>\n",
       "      <td>0.449729</td>\n",
       "      <td>0.434748</td>\n",
       "    </tr>\n",
       "  </tbody>\n",
       "</table>\n",
       "</div>"
      ],
      "text/plain": [
       "          3         4\n",
       "1  0.259773  0.010141\n",
       "2  0.449729  0.434748"
      ]
     },
     "execution_count": 85,
     "metadata": {},
     "output_type": "execute_result"
    }
   ],
   "source": [
    "newdf.loc[[1,2] , [3,4]]"
   ]
  },
  {
   "cell_type": "code",
   "execution_count": null,
   "id": "56a8476b-f37a-4597-b0e3-a738c6028274",
   "metadata": {},
   "outputs": [],
   "source": []
  }
 ],
 "metadata": {
  "kernelspec": {
   "display_name": "Python 3 (ipykernel)",
   "language": "python",
   "name": "python3"
  },
  "language_info": {
   "codemirror_mode": {
    "name": "ipython",
    "version": 3
   },
   "file_extension": ".py",
   "mimetype": "text/x-python",
   "name": "python",
   "nbconvert_exporter": "python",
   "pygments_lexer": "ipython3",
   "version": "3.12.4"
  }
 },
 "nbformat": 4,
 "nbformat_minor": 5
}
