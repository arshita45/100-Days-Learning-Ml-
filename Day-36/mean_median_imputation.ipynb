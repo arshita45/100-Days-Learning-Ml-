{
 "cells": [
  {
   "cell_type": "code",
   "execution_count": 17,
   "id": "54b427c1-d5d2-460d-8834-0589deb0664d",
   "metadata": {},
   "outputs": [],
   "source": [
    "import pandas as pd\n",
    "import numpy as np"
   ]
  },
  {
   "cell_type": "code",
   "execution_count": 18,
   "id": "06a5d903-c9d3-49a2-bd16-9e80aea16610",
   "metadata": {},
   "outputs": [],
   "source": [
    "df = pd.read_csv(\"titanic_toy.csv\")"
   ]
  },
  {
   "cell_type": "markdown",
   "id": "b9d194ca-9ebd-4e55-91f8-c18780a2605b",
   "metadata": {},
   "source": [
    "mean-median imputation is a imputation which you can apply if missing data is at random plus missing data less tah 5% it usully replaces missing data with mean or median "
   ]
  },
  {
   "cell_type": "code",
   "execution_count": 20,
   "id": "f8897927-8d81-4ee0-9641-c2478e208bb7",
   "metadata": {},
   "outputs": [
    {
     "data": {
      "text/html": [
       "<div>\n",
       "<style scoped>\n",
       "    .dataframe tbody tr th:only-of-type {\n",
       "        vertical-align: middle;\n",
       "    }\n",
       "\n",
       "    .dataframe tbody tr th {\n",
       "        vertical-align: top;\n",
       "    }\n",
       "\n",
       "    .dataframe thead th {\n",
       "        text-align: right;\n",
       "    }\n",
       "</style>\n",
       "<table border=\"1\" class=\"dataframe\">\n",
       "  <thead>\n",
       "    <tr style=\"text-align: right;\">\n",
       "      <th></th>\n",
       "      <th>Age</th>\n",
       "      <th>Fare</th>\n",
       "      <th>Family</th>\n",
       "      <th>Survived</th>\n",
       "    </tr>\n",
       "  </thead>\n",
       "  <tbody>\n",
       "    <tr>\n",
       "      <th>514</th>\n",
       "      <td>24.0</td>\n",
       "      <td>7.4958</td>\n",
       "      <td>0</td>\n",
       "      <td>0</td>\n",
       "    </tr>\n",
       "    <tr>\n",
       "      <th>376</th>\n",
       "      <td>22.0</td>\n",
       "      <td>7.2500</td>\n",
       "      <td>0</td>\n",
       "      <td>1</td>\n",
       "    </tr>\n",
       "    <tr>\n",
       "      <th>263</th>\n",
       "      <td>40.0</td>\n",
       "      <td>0.0000</td>\n",
       "      <td>0</td>\n",
       "      <td>0</td>\n",
       "    </tr>\n",
       "    <tr>\n",
       "      <th>698</th>\n",
       "      <td>49.0</td>\n",
       "      <td>NaN</td>\n",
       "      <td>2</td>\n",
       "      <td>0</td>\n",
       "    </tr>\n",
       "    <tr>\n",
       "      <th>217</th>\n",
       "      <td>42.0</td>\n",
       "      <td>27.0000</td>\n",
       "      <td>1</td>\n",
       "      <td>0</td>\n",
       "    </tr>\n",
       "  </tbody>\n",
       "</table>\n",
       "</div>"
      ],
      "text/plain": [
       "      Age     Fare  Family  Survived\n",
       "514  24.0   7.4958       0         0\n",
       "376  22.0   7.2500       0         1\n",
       "263  40.0   0.0000       0         0\n",
       "698  49.0      NaN       2         0\n",
       "217  42.0  27.0000       1         0"
      ]
     },
     "execution_count": 20,
     "metadata": {},
     "output_type": "execute_result"
    }
   ],
   "source": [
    "df.sample(5)"
   ]
  },
  {
   "cell_type": "code",
   "execution_count": null,
   "id": "560e3e5f-61a6-47a3-b459-55eb3f86d25f",
   "metadata": {},
   "outputs": [],
   "source": []
  },
  {
   "cell_type": "code",
   "execution_count": 21,
   "id": "e35cb611-d823-4b0d-9b85-b47c317e14ef",
   "metadata": {},
   "outputs": [
    {
     "data": {
      "text/plain": [
       "Age         0.198653\n",
       "Fare        0.050505\n",
       "Family      0.000000\n",
       "Survived    0.000000\n",
       "dtype: float64"
      ]
     },
     "execution_count": 21,
     "metadata": {},
     "output_type": "execute_result"
    }
   ],
   "source": [
    "df.isnull().mean()"
   ]
  },
  {
   "cell_type": "raw",
   "id": "a8a76d99-e8b7-4de4-84ef-5acd58a5f1b2",
   "metadata": {},
   "source": [
    "from sklearn.model_selection  import train_test_split\n",
    "x_train , x_test , y_train , y_test = train_test_split(df.iloc[:,0:3] , df.iloc[:,-1], test_size=0.2 , random_state = 42)\n",
    "x_train"
   ]
  },
  {
   "cell_type": "code",
   "execution_count": 22,
   "id": "cb87d87f-2a59-457d-b2a1-b6351f29d9f5",
   "metadata": {},
   "outputs": [
    {
     "data": {
      "text/plain": [
       "Age       0.196629\n",
       "Fare      0.050562\n",
       "Family    0.000000\n",
       "dtype: float64"
      ]
     },
     "execution_count": 22,
     "metadata": {},
     "output_type": "execute_result"
    }
   ],
   "source": [
    "x_train.isnull().mean()"
   ]
  },
  {
   "cell_type": "code",
   "execution_count": 24,
   "id": "29615553-ce04-48d5-b408-79e22f54e1a4",
   "metadata": {},
   "outputs": [],
   "source": [
    "mean_age = x_train['Age'].mean()\n",
    "median_age = x_train['Age'].median()\n",
    "\n",
    "mean_fare = x_train['Fare'].mean()\n",
    "median_fare =x_train['Fare'].median()"
   ]
  },
  {
   "cell_type": "code",
   "execution_count": 30,
   "id": "90172cdc-2077-4be6-9902-91cac6680541",
   "metadata": {},
   "outputs": [],
   "source": [
    "x_train['mean_age'] = x_train['Age'].fillna(mean_age)\n",
    "x_train['median_age'] = x_train['Age'].fillna(median_age)\n",
    "x_train['mean_fare'] = x_train['Fare'].fillna(mean_fare)\n",
    "x_train['median_fare'] = x_train['Fare'].fillna(median_fare)"
   ]
  },
  {
   "cell_type": "code",
   "execution_count": 32,
   "id": "f7ee1429-94db-4806-9473-ecf1a55a91c2",
   "metadata": {},
   "outputs": [
    {
     "data": {
      "text/html": [
       "<div>\n",
       "<style scoped>\n",
       "    .dataframe tbody tr th:only-of-type {\n",
       "        vertical-align: middle;\n",
       "    }\n",
       "\n",
       "    .dataframe tbody tr th {\n",
       "        vertical-align: top;\n",
       "    }\n",
       "\n",
       "    .dataframe thead th {\n",
       "        text-align: right;\n",
       "    }\n",
       "</style>\n",
       "<table border=\"1\" class=\"dataframe\">\n",
       "  <thead>\n",
       "    <tr style=\"text-align: right;\">\n",
       "      <th></th>\n",
       "      <th>Age</th>\n",
       "      <th>Fare</th>\n",
       "      <th>Family</th>\n",
       "      <th>mean_age</th>\n",
       "      <th>median_age</th>\n",
       "      <th>mean_fare</th>\n",
       "      <th>median_fare</th>\n",
       "    </tr>\n",
       "  </thead>\n",
       "  <tbody>\n",
       "    <tr>\n",
       "      <th>331</th>\n",
       "      <td>45.5</td>\n",
       "      <td>28.5000</td>\n",
       "      <td>0</td>\n",
       "      <td>45.500000</td>\n",
       "      <td>45.5</td>\n",
       "      <td>28.500000</td>\n",
       "      <td>28.5000</td>\n",
       "    </tr>\n",
       "    <tr>\n",
       "      <th>733</th>\n",
       "      <td>23.0</td>\n",
       "      <td>13.0000</td>\n",
       "      <td>0</td>\n",
       "      <td>23.000000</td>\n",
       "      <td>23.0</td>\n",
       "      <td>13.000000</td>\n",
       "      <td>13.0000</td>\n",
       "    </tr>\n",
       "    <tr>\n",
       "      <th>382</th>\n",
       "      <td>32.0</td>\n",
       "      <td>7.9250</td>\n",
       "      <td>0</td>\n",
       "      <td>32.000000</td>\n",
       "      <td>32.0</td>\n",
       "      <td>7.925000</td>\n",
       "      <td>7.9250</td>\n",
       "    </tr>\n",
       "    <tr>\n",
       "      <th>704</th>\n",
       "      <td>26.0</td>\n",
       "      <td>7.8542</td>\n",
       "      <td>1</td>\n",
       "      <td>26.000000</td>\n",
       "      <td>26.0</td>\n",
       "      <td>7.854200</td>\n",
       "      <td>7.8542</td>\n",
       "    </tr>\n",
       "    <tr>\n",
       "      <th>813</th>\n",
       "      <td>6.0</td>\n",
       "      <td>31.2750</td>\n",
       "      <td>6</td>\n",
       "      <td>6.000000</td>\n",
       "      <td>6.0</td>\n",
       "      <td>31.275000</td>\n",
       "      <td>31.2750</td>\n",
       "    </tr>\n",
       "    <tr>\n",
       "      <th>...</th>\n",
       "      <td>...</td>\n",
       "      <td>...</td>\n",
       "      <td>...</td>\n",
       "      <td>...</td>\n",
       "      <td>...</td>\n",
       "      <td>...</td>\n",
       "      <td>...</td>\n",
       "    </tr>\n",
       "    <tr>\n",
       "      <th>106</th>\n",
       "      <td>21.0</td>\n",
       "      <td>7.6500</td>\n",
       "      <td>0</td>\n",
       "      <td>21.000000</td>\n",
       "      <td>21.0</td>\n",
       "      <td>7.650000</td>\n",
       "      <td>7.6500</td>\n",
       "    </tr>\n",
       "    <tr>\n",
       "      <th>270</th>\n",
       "      <td>NaN</td>\n",
       "      <td>31.0000</td>\n",
       "      <td>0</td>\n",
       "      <td>29.498846</td>\n",
       "      <td>28.0</td>\n",
       "      <td>31.000000</td>\n",
       "      <td>31.0000</td>\n",
       "    </tr>\n",
       "    <tr>\n",
       "      <th>860</th>\n",
       "      <td>41.0</td>\n",
       "      <td>NaN</td>\n",
       "      <td>2</td>\n",
       "      <td>41.000000</td>\n",
       "      <td>41.0</td>\n",
       "      <td>32.517788</td>\n",
       "      <td>14.4000</td>\n",
       "    </tr>\n",
       "    <tr>\n",
       "      <th>435</th>\n",
       "      <td>14.0</td>\n",
       "      <td>120.0000</td>\n",
       "      <td>3</td>\n",
       "      <td>14.000000</td>\n",
       "      <td>14.0</td>\n",
       "      <td>120.000000</td>\n",
       "      <td>120.0000</td>\n",
       "    </tr>\n",
       "    <tr>\n",
       "      <th>102</th>\n",
       "      <td>21.0</td>\n",
       "      <td>77.2875</td>\n",
       "      <td>1</td>\n",
       "      <td>21.000000</td>\n",
       "      <td>21.0</td>\n",
       "      <td>77.287500</td>\n",
       "      <td>77.2875</td>\n",
       "    </tr>\n",
       "  </tbody>\n",
       "</table>\n",
       "<p>712 rows × 7 columns</p>\n",
       "</div>"
      ],
      "text/plain": [
       "      Age      Fare  Family   mean_age  median_age   mean_fare  median_fare\n",
       "331  45.5   28.5000       0  45.500000        45.5   28.500000      28.5000\n",
       "733  23.0   13.0000       0  23.000000        23.0   13.000000      13.0000\n",
       "382  32.0    7.9250       0  32.000000        32.0    7.925000       7.9250\n",
       "704  26.0    7.8542       1  26.000000        26.0    7.854200       7.8542\n",
       "813   6.0   31.2750       6   6.000000         6.0   31.275000      31.2750\n",
       "..    ...       ...     ...        ...         ...         ...          ...\n",
       "106  21.0    7.6500       0  21.000000        21.0    7.650000       7.6500\n",
       "270   NaN   31.0000       0  29.498846        28.0   31.000000      31.0000\n",
       "860  41.0       NaN       2  41.000000        41.0   32.517788      14.4000\n",
       "435  14.0  120.0000       3  14.000000        14.0  120.000000     120.0000\n",
       "102  21.0   77.2875       1  21.000000        21.0   77.287500      77.2875\n",
       "\n",
       "[712 rows x 7 columns]"
      ]
     },
     "execution_count": 32,
     "metadata": {},
     "output_type": "execute_result"
    }
   ],
   "source": [
    "x_train"
   ]
  },
  {
   "cell_type": "code",
   "execution_count": 38,
   "id": "0ffc2c9e-841f-409e-b1cc-4056e82b1c17",
   "metadata": {},
   "outputs": [
    {
     "name": "stdout",
     "output_type": "stream",
     "text": [
      "210.2517072477437\n",
      "168.8519336687225\n",
      "169.20731007048096\n"
     ]
    }
   ],
   "source": [
    "print(x_train['Age'].var())\n",
    "print(x_train['mean_age'].var())\n",
    "print(x_train['median_age'].var())"
   ]
  },
  {
   "cell_type": "code",
   "execution_count": 40,
   "id": "82a1d8cb-4ccf-4788-9d91-33658ffa19c1",
   "metadata": {},
   "outputs": [
    {
     "name": "stdout",
     "output_type": "stream",
     "text": [
      "2761.031434948639\n",
      "2621.2323749512393\n",
      "2637.01248167777\n"
     ]
    }
   ],
   "source": [
    "print(x_train['Fare'].var())\n",
    "print(x_train['mean_fare'].var())\n",
    "print(x_train['median_fare'].var())"
   ]
  },
  {
   "cell_type": "code",
   "execution_count": 42,
   "id": "ca6b0783-0841-4dc3-bca6-3d9b585d6b3e",
   "metadata": {},
   "outputs": [
    {
     "data": {
      "text/plain": [
       "<Axes: >"
      ]
     },
     "execution_count": 42,
     "metadata": {},
     "output_type": "execute_result"
    },
    {
     "data": {
      "image/png": "[encoded data removed]",
      "text/plain": [
       "<Figure size 640x480 with 1 Axes>"
      ]
     },
     "metadata": {},
     "output_type": "display_data"
    }
   ],
   "source": [
    "x_train[['Age' , 'median_age' , 'mean_age']].boxplot()"
   ]
  },
  {
   "cell_type": "code",
   "execution_count": 52,
   "id": "5b69679b-7cd3-49fa-8307-c1e01b78056b",
   "metadata": {},
   "outputs": [
    {
     "data": {
      "image/png": "[encoded data removed]",
      "text/plain": [
       "<Figure size 640x480 with 1 Axes>"
      ]
     },
     "metadata": {},
     "output_type": "display_data"
    }
   ],
   "source": [
    "\n",
    "import matplotlib.pyplot as plt\n",
    "x_train[['Fare', 'median_fare', 'mean_fare']].boxplot()\n",
    "plt.show()\n"
   ]
  },
  {
   "cell_type": "markdown",
   "id": "3b9e204d-b993-4a8d-95e3-32243d43da75",
   "metadata": {},
   "source": [
    "we usually check the varinace or covariance so that there is not much difference after using it\n",
    "check boxplot and other kde graphs to see the distribution\n",
    "this method applies good on fare but not good for age it is creating more outliers "
   ]
  },
  {
   "cell_type": "code",
   "execution_count": 56,
   "id": "e89bbec0-8517-43b7-a1f0-24190bf77841",
   "metadata": {},
   "outputs": [],
   "source": [
    "from sklearn.impute import SimpleImputer\n",
    "from sklearn.compose import ColumnTransformer "
   ]
  },
  {
   "cell_type": "code",
   "execution_count": 58,
   "id": "4c7be859-28f4-4f6f-8873-1b7a477279ad",
   "metadata": {},
   "outputs": [],
   "source": [
    "X_train , X_test , Y_train , Y_test = train_test_split(df.iloc[:,0:3] , df.iloc[:,-1], test_size=0.2 , random_state = 42)"
   ]
  },
  {
   "cell_type": "code",
   "execution_count": 60,
   "id": "b5556fe6-d463-439f-bc68-62a97047e4b8",
   "metadata": {},
   "outputs": [
    {
     "data": {
      "text/html": [
       "<div>\n",
       "<style scoped>\n",
       "    .dataframe tbody tr th:only-of-type {\n",
       "        vertical-align: middle;\n",
       "    }\n",
       "\n",
       "    .dataframe tbody tr th {\n",
       "        vertical-align: top;\n",
       "    }\n",
       "\n",
       "    .dataframe thead th {\n",
       "        text-align: right;\n",
       "    }\n",
       "</style>\n",
       "<table border=\"1\" class=\"dataframe\">\n",
       "  <thead>\n",
       "    <tr style=\"text-align: right;\">\n",
       "      <th></th>\n",
       "      <th>Age</th>\n",
       "      <th>Fare</th>\n",
       "      <th>Family</th>\n",
       "    </tr>\n",
       "  </thead>\n",
       "  <tbody>\n",
       "    <tr>\n",
       "      <th>331</th>\n",
       "      <td>45.5</td>\n",
       "      <td>28.5000</td>\n",
       "      <td>0</td>\n",
       "    </tr>\n",
       "    <tr>\n",
       "      <th>733</th>\n",
       "      <td>23.0</td>\n",
       "      <td>13.0000</td>\n",
       "      <td>0</td>\n",
       "    </tr>\n",
       "    <tr>\n",
       "      <th>382</th>\n",
       "      <td>32.0</td>\n",
       "      <td>7.9250</td>\n",
       "      <td>0</td>\n",
       "    </tr>\n",
       "    <tr>\n",
       "      <th>704</th>\n",
       "      <td>26.0</td>\n",
       "      <td>7.8542</td>\n",
       "      <td>1</td>\n",
       "    </tr>\n",
       "    <tr>\n",
       "      <th>813</th>\n",
       "      <td>6.0</td>\n",
       "      <td>31.2750</td>\n",
       "      <td>6</td>\n",
       "    </tr>\n",
       "    <tr>\n",
       "      <th>...</th>\n",
       "      <td>...</td>\n",
       "      <td>...</td>\n",
       "      <td>...</td>\n",
       "    </tr>\n",
       "    <tr>\n",
       "      <th>106</th>\n",
       "      <td>21.0</td>\n",
       "      <td>7.6500</td>\n",
       "      <td>0</td>\n",
       "    </tr>\n",
       "    <tr>\n",
       "      <th>270</th>\n",
       "      <td>NaN</td>\n",
       "      <td>31.0000</td>\n",
       "      <td>0</td>\n",
       "    </tr>\n",
       "    <tr>\n",
       "      <th>860</th>\n",
       "      <td>41.0</td>\n",
       "      <td>NaN</td>\n",
       "      <td>2</td>\n",
       "    </tr>\n",
       "    <tr>\n",
       "      <th>435</th>\n",
       "      <td>14.0</td>\n",
       "      <td>120.0000</td>\n",
       "      <td>3</td>\n",
       "    </tr>\n",
       "    <tr>\n",
       "      <th>102</th>\n",
       "      <td>21.0</td>\n",
       "      <td>77.2875</td>\n",
       "      <td>1</td>\n",
       "    </tr>\n",
       "  </tbody>\n",
       "</table>\n",
       "<p>712 rows × 3 columns</p>\n",
       "</div>"
      ],
      "text/plain": [
       "      Age      Fare  Family\n",
       "331  45.5   28.5000       0\n",
       "733  23.0   13.0000       0\n",
       "382  32.0    7.9250       0\n",
       "704  26.0    7.8542       1\n",
       "813   6.0   31.2750       6\n",
       "..    ...       ...     ...\n",
       "106  21.0    7.6500       0\n",
       "270   NaN   31.0000       0\n",
       "860  41.0       NaN       2\n",
       "435  14.0  120.0000       3\n",
       "102  21.0   77.2875       1\n",
       "\n",
       "[712 rows x 3 columns]"
      ]
     },
     "execution_count": 60,
     "metadata": {},
     "output_type": "execute_result"
    }
   ],
   "source": [
    "X_train"
   ]
  },
  {
   "cell_type": "code",
   "execution_count": 62,
   "id": "5de33a41-c6db-4084-adb0-4eaf6086df3e",
   "metadata": {},
   "outputs": [],
   "source": [
    "trf = ColumnTransformer(\n",
    "    [(\"imputer1\" , SimpleImputer(strategy='median') ,['Age']),\n",
    "      (\"imputer2\" , SimpleImputer(strategy='mean') , ['Fare'])],\n",
    "    remainder = 'passthrough')"
   ]
  },
  {
   "cell_type": "code",
   "execution_count": 64,
   "id": "2284835b-4eb1-48dc-9f54-9fe9f3cc7bcc",
   "metadata": {},
   "outputs": [],
   "source": [
    "trf1 = trf.fit_transform(X_train)"
   ]
  },
  {
   "cell_type": "code",
   "execution_count": 66,
   "id": "2920a308-9b71-4806-99ce-acbabf832929",
   "metadata": {},
   "outputs": [
    {
     "data": {
      "text/plain": [
       "array([[ 45.5       ,  28.5       ,   0.        ],\n",
       "       [ 23.        ,  13.        ,   0.        ],\n",
       "       [ 32.        ,   7.925     ,   0.        ],\n",
       "       ...,\n",
       "       [ 41.        ,  32.51778772,   2.        ],\n",
       "       [ 14.        , 120.        ,   3.        ],\n",
       "       [ 21.        ,  77.2875    ,   1.        ]])"
      ]
     },
     "execution_count": 66,
     "metadata": {},
     "output_type": "execute_result"
    }
   ],
   "source": [
    "trf1"
   ]
  },
  {
   "cell_type": "code",
   "execution_count": 72,
   "id": "fe23d46b-e7c3-44da-987d-1f333f2c62bd",
   "metadata": {},
   "outputs": [
    {
     "data": {
      "text/plain": [
       "array([28.])"
      ]
     },
     "execution_count": 72,
     "metadata": {},
     "output_type": "execute_result"
    }
   ],
   "source": [
    "trf.named_transformers_['imputer1'].statistics_"
   ]
  },
  {
   "cell_type": "code",
   "execution_count": 74,
   "id": "66f11675-c899-46da-8f24-086d4bf5eba3",
   "metadata": {},
   "outputs": [
    {
     "data": {
      "text/plain": [
       "array([32.51778772])"
      ]
     },
     "execution_count": 74,
     "metadata": {},
     "output_type": "execute_result"
    }
   ],
   "source": [
    "trf.named_transformers_['imputer2'].statistics_"
   ]
  },
  {
   "cell_type": "code",
   "execution_count": null,
   "id": "7cae0a3a-8783-4ad5-a72e-7e94ae749dee",
   "metadata": {},
   "outputs": [],
   "source": []
  }
 ],
 "metadata": {
  "kernelspec": {
   "display_name": "Python 3 (ipykernel)",
   "language": "python",
   "name": "python3"
  },
  "language_info": {
   "codemirror_mode": {
    "name": "ipython",
    "version": 3
   },
   "file_extension": ".py",
   "mimetype": "text/x-python",
   "name": "python",
   "nbconvert_exporter": "python",
   "pygments_lexer": "ipython3",
   "version": "3.12.4"
  }
 },
 "nbformat": 4,
 "nbformat_minor": 5
}
